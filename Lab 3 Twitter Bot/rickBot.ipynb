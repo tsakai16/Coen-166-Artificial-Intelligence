{
 "cells": [
  {
   "cell_type": "code",
   "execution_count": 264,
   "metadata": {},
   "outputs": [],
   "source": [
    "import pandas as pd\n",
    "import json\n",
    "import markovify"
   ]
  },
  {
   "cell_type": "markdown",
   "metadata": {},
   "source": [
    "## Read in from CSV"
   ]
  },
  {
   "cell_type": "code",
   "execution_count": 265,
   "metadata": {},
   "outputs": [],
   "source": [
    "data = pd.read_csv('RickAndMortyScripts.csv')\n",
    "#csv from zipped https://www.kaggle.com/andradaolteanu/rickmorty-scripts/data"
   ]
  },
  {
   "cell_type": "code",
   "execution_count": 266,
   "metadata": {},
   "outputs": [
    {
     "data": {
      "text/plain": [
       "Index(['index', 'season no.', 'episode no.', 'episode name', 'name', 'line'], dtype='object')"
      ]
     },
     "execution_count": 266,
     "metadata": {},
     "output_type": "execute_result"
    }
   ],
   "source": [
    "data.columns"
   ]
  },
  {
   "cell_type": "code",
   "execution_count": 267,
   "metadata": {},
   "outputs": [],
   "source": [
    "data = data[['name','line']]\n",
    "#remove extra columns"
   ]
  },
  {
   "cell_type": "code",
   "execution_count": 268,
   "metadata": {},
   "outputs": [
    {
     "data": {
      "text/plain": [
       "Index(['name', 'line'], dtype='object')"
      ]
     },
     "execution_count": 268,
     "metadata": {},
     "output_type": "execute_result"
    }
   ],
   "source": [
    "data.columns"
   ]
  },
  {
   "cell_type": "code",
   "execution_count": 269,
   "metadata": {},
   "outputs": [
    {
     "data": {
      "text/plain": [
       "Rick              420\n",
       "Morty             347\n",
       "Beth              148\n",
       "Jerry             132\n",
       "Summer             97\n",
       "Pickle Rick        77\n",
       "Supernova          44\n",
       "Cop Morty          34\n",
       "All Ricks          32\n",
       "Mr. Goldenfold     28\n",
       "Name: name, dtype: int64"
      ]
     },
     "execution_count": 269,
     "metadata": {},
     "output_type": "execute_result"
    }
   ],
   "source": [
    "char_counts = data['name'][~ pd.isnull(data['name'])].value_counts()\n",
    "char_counts[:10]"
   ]
  },
  {
   "cell_type": "markdown",
   "metadata": {},
   "source": [
    "## Choose characters to markovify and make bot"
   ]
  },
  {
   "cell_type": "code",
   "execution_count": 270,
   "metadata": {},
   "outputs": [],
   "source": [
    "character = 'Rick'\n",
    "character2 = 'Pickle Rick'\n",
    "bot_name = 'rickBot'"
   ]
  },
  {
   "cell_type": "code",
   "execution_count": 271,
   "metadata": {},
   "outputs": [
    {
     "data": {
      "text/html": [
       "<div>\n",
       "<style scoped>\n",
       "    .dataframe tbody tr th:only-of-type {\n",
       "        vertical-align: middle;\n",
       "    }\n",
       "\n",
       "    .dataframe tbody tr th {\n",
       "        vertical-align: top;\n",
       "    }\n",
       "\n",
       "    .dataframe thead th {\n",
       "        text-align: right;\n",
       "    }\n",
       "</style>\n",
       "<table border=\"1\" class=\"dataframe\">\n",
       "  <thead>\n",
       "    <tr style=\"text-align: right;\">\n",
       "      <th></th>\n",
       "      <th>name</th>\n",
       "      <th>line</th>\n",
       "    </tr>\n",
       "  </thead>\n",
       "  <tbody>\n",
       "    <tr>\n",
       "      <th>0</th>\n",
       "      <td>Rick</td>\n",
       "      <td>Morty! You gotta come on. Jus'... you gotta co...</td>\n",
       "    </tr>\n",
       "    <tr>\n",
       "      <th>2</th>\n",
       "      <td>Rick</td>\n",
       "      <td>I got a surprise for you, Morty.</td>\n",
       "    </tr>\n",
       "    <tr>\n",
       "      <th>4</th>\n",
       "      <td>Rick</td>\n",
       "      <td>Come on, I got a surprise for you.  Come on, h...</td>\n",
       "    </tr>\n",
       "    <tr>\n",
       "      <th>6</th>\n",
       "      <td>Rick</td>\n",
       "      <td>We gotta go, gotta get outta here, come on. Go...</td>\n",
       "    </tr>\n",
       "    <tr>\n",
       "      <th>7</th>\n",
       "      <td>Rick</td>\n",
       "      <td>What do you think of this... flying vehicle, M...</td>\n",
       "    </tr>\n",
       "    <tr>\n",
       "      <th>9</th>\n",
       "      <td>Rick</td>\n",
       "      <td>Morty. I had to... I had to do it. I had— I ha...</td>\n",
       "    </tr>\n",
       "    <tr>\n",
       "      <th>11</th>\n",
       "      <td>Rick</td>\n",
       "      <td>We're gonna drop it down there just get a whol...</td>\n",
       "    </tr>\n",
       "    <tr>\n",
       "      <th>13</th>\n",
       "      <td>Rick</td>\n",
       "      <td>Come on, Morty. Just take it easy, Morty. It's...</td>\n",
       "    </tr>\n",
       "    <tr>\n",
       "      <th>15</th>\n",
       "      <td>Rick</td>\n",
       "      <td>When I drop the bomb you know, I want you to h...</td>\n",
       "    </tr>\n",
       "    <tr>\n",
       "      <th>17</th>\n",
       "      <td>Rick</td>\n",
       "      <td>And Jessica's gonna be Eve.</td>\n",
       "    </tr>\n",
       "    <tr>\n",
       "      <th>19</th>\n",
       "      <td>Rick</td>\n",
       "      <td>And so that's the surprise, Morty.</td>\n",
       "    </tr>\n",
       "    <tr>\n",
       "      <th>21</th>\n",
       "      <td>Rick</td>\n",
       "      <td>I-I get what you're trying to say, Morty. List...</td>\n",
       "    </tr>\n",
       "    <tr>\n",
       "      <th>23</th>\n",
       "      <td>Rick</td>\n",
       "      <td>You-you don't have to worry about me getting w...</td>\n",
       "    </tr>\n",
       "    <tr>\n",
       "      <th>25</th>\n",
       "      <td>Rick</td>\n",
       "      <td>You know what, Morty? You're right.  Let's for...</td>\n",
       "    </tr>\n",
       "    <tr>\n",
       "      <th>27</th>\n",
       "      <td>Rick</td>\n",
       "      <td>Get off of me, Morty!</td>\n",
       "    </tr>\n",
       "    <tr>\n",
       "      <th>29</th>\n",
       "      <td>Rick</td>\n",
       "      <td>Come on! What’s gotten into you? If you love E...</td>\n",
       "    </tr>\n",
       "    <tr>\n",
       "      <th>30</th>\n",
       "      <td>Rick</td>\n",
       "      <td>Alright. I'll-I'll land. I'll land. I'll land....</td>\n",
       "    </tr>\n",
       "    <tr>\n",
       "      <th>31</th>\n",
       "      <td>Rick</td>\n",
       "      <td>We'll park it right here, Morty. Right here on...</td>\n",
       "    </tr>\n",
       "    <tr>\n",
       "      <th>33</th>\n",
       "      <td>Rick</td>\n",
       "      <td>You know what? That was all a test, Morty. Jus...</td>\n",
       "    </tr>\n",
       "    <tr>\n",
       "      <th>35</th>\n",
       "      <td>Rick</td>\n",
       "      <td>Sure. Why not? I don’t, I don't know. Y-you kn...</td>\n",
       "    </tr>\n",
       "  </tbody>\n",
       "</table>\n",
       "</div>"
      ],
      "text/plain": [
       "    name                                               line\n",
       "0   Rick  Morty! You gotta come on. Jus'... you gotta co...\n",
       "2   Rick                   I got a surprise for you, Morty.\n",
       "4   Rick  Come on, I got a surprise for you.  Come on, h...\n",
       "6   Rick  We gotta go, gotta get outta here, come on. Go...\n",
       "7   Rick  What do you think of this... flying vehicle, M...\n",
       "9   Rick  Morty. I had to... I had to do it. I had— I ha...\n",
       "11  Rick  We're gonna drop it down there just get a whol...\n",
       "13  Rick  Come on, Morty. Just take it easy, Morty. It's...\n",
       "15  Rick  When I drop the bomb you know, I want you to h...\n",
       "17  Rick                        And Jessica's gonna be Eve.\n",
       "19  Rick                 And so that's the surprise, Morty.\n",
       "21  Rick  I-I get what you're trying to say, Morty. List...\n",
       "23  Rick  You-you don't have to worry about me getting w...\n",
       "25  Rick  You know what, Morty? You're right.  Let's for...\n",
       "27  Rick                              Get off of me, Morty!\n",
       "29  Rick  Come on! What’s gotten into you? If you love E...\n",
       "30  Rick  Alright. I'll-I'll land. I'll land. I'll land....\n",
       "31  Rick  We'll park it right here, Morty. Right here on...\n",
       "33  Rick  You know what? That was all a test, Morty. Jus...\n",
       "35  Rick  Sure. Why not? I don’t, I don't know. Y-you kn..."
      ]
     },
     "execution_count": 271,
     "metadata": {},
     "output_type": "execute_result"
    }
   ],
   "source": [
    "data_character = data[data['name'] == character]\n",
    "data_character2 = data[data['name'] == character2]\n",
    "data_character = data_character.append(data_character2)\n",
    "data_character = data_character[~pd.isnull(data_character)]\n",
    "data_character.head(20)"
   ]
  },
  {
   "cell_type": "code",
   "execution_count": 272,
   "metadata": {
    "scrolled": true
   },
   "outputs": [
    {
     "data": {
      "text/plain": [
       ".    336\n",
       "!     75\n",
       "?     67\n",
       "-      7\n",
       "y      3\n",
       "e      2\n",
       "—      2\n",
       "s      2\n",
       "\"      1\n",
       "g      1\n",
       "…      1\n",
       "dtype: int64"
      ]
     },
     "execution_count": 272,
     "metadata": {},
     "output_type": "execute_result"
    }
   ],
   "source": [
    "last_chars = [c[-1] if type(c) == str else '0' for c in data_character['line'].values ]\n",
    "pd.Series(last_chars).value_counts()\n",
    "#determine most common ending characters"
   ]
  },
  {
   "cell_type": "markdown",
   "metadata": {},
   "source": [
    "### Set up to use markovify"
   ]
  },
  {
   "cell_type": "code",
   "execution_count": 273,
   "metadata": {},
   "outputs": [],
   "source": [
    "valid_ends = ['!', '.', '?']\n",
    "#determine valid ends of sections\n",
    "\n",
    "valids = [c in valid_ends for c in last_chars]\n",
    "#choose lines with valid ends\n",
    "\n",
    "valid_character = data_character[valids]['line'].values\n",
    "#take the values from the allowed lines\n",
    "\n",
    "text_character = ' '.join(list(valid_character))\n",
    "#join together"
   ]
  },
  {
   "cell_type": "markdown",
   "metadata": {},
   "source": [
    "### Text generation"
   ]
  },
  {
   "cell_type": "code",
   "execution_count": 274,
   "metadata": {},
   "outputs": [],
   "source": [
    "model = markovify.Text(text_character)"
   ]
  },
  {
   "cell_type": "code",
   "execution_count": 275,
   "metadata": {},
   "outputs": [],
   "source": [
    "# for i in range(50):\n",
    "#     print(model.make_short_sentence(280))"
   ]
  },
  {
   "cell_type": "markdown",
   "metadata": {},
   "source": [
    "### Create json file for use in python script"
   ]
  },
  {
   "cell_type": "code",
   "execution_count": 276,
   "metadata": {},
   "outputs": [],
   "source": [
    "json_model = model.to_json()\n",
    "json.dump(json_model, open('./{}.json'.format(bot_name), 'w'))"
   ]
  },
  {
   "cell_type": "markdown",
   "metadata": {},
   "source": [
    "#### Test that it works"
   ]
  },
  {
   "cell_type": "code",
   "execution_count": 277,
   "metadata": {},
   "outputs": [],
   "source": [
    "#test_model = markovify.Text.from_json(json.load(open('./{}.json'.format(bot_name), 'r')))"
   ]
  },
  {
   "cell_type": "code",
   "execution_count": 278,
   "metadata": {},
   "outputs": [],
   "source": [
    "# for i in range(50):\n",
    "#     print(test_model.make_short_sentence(280))"
   ]
  },
  {
   "cell_type": "markdown",
   "metadata": {},
   "source": []
  },
  {
   "cell_type": "code",
   "execution_count": null,
   "metadata": {},
   "outputs": [],
   "source": []
  }
 ],
 "metadata": {
  "kernelspec": {
   "display_name": "Python 3",
   "language": "python",
   "name": "python3"
  },
  "language_info": {
   "codemirror_mode": {
    "name": "ipython",
    "version": 3
   },
   "file_extension": ".py",
   "mimetype": "text/x-python",
   "name": "python",
   "nbconvert_exporter": "python",
   "pygments_lexer": "ipython3",
   "version": "3.7.1"
  }
 },
 "nbformat": 4,
 "nbformat_minor": 4
}
